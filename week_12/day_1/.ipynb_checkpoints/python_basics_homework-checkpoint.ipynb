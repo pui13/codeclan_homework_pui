{
 "cells": [
  {
   "cell_type": "markdown",
   "id": "ba7e5ba3",
   "metadata": {},
   "source": [
    "## Question 1\n",
    "Create a list with the following data, and assign it to a variable named shopping: 'spam' 'ham' 'eggs' 'ham'"
   ]
  },
  {
   "cell_type": "code",
   "execution_count": 9,
   "id": "870d6484",
   "metadata": {},
   "outputs": [],
   "source": [
    "shopping = ['spam', 'ham', 'eggs', 'ham']"
   ]
  },
  {
   "cell_type": "code",
   "execution_count": 10,
   "id": "16adc241",
   "metadata": {},
   "outputs": [
    {
     "data": {
      "text/plain": [
       "list"
      ]
     },
     "execution_count": 10,
     "metadata": {},
     "output_type": "execute_result"
    }
   ],
   "source": [
    "type(shopping)"
   ]
  },
  {
   "cell_type": "markdown",
   "id": "d36b855b",
   "metadata": {},
   "source": [
    "Extract the second element of the list."
   ]
  },
  {
   "cell_type": "code",
   "execution_count": 5,
   "id": "e81fc93a",
   "metadata": {
    "scrolled": true
   },
   "outputs": [
    {
     "data": {
      "text/plain": [
       "'ham'"
      ]
     },
     "execution_count": 5,
     "metadata": {},
     "output_type": "execute_result"
    }
   ],
   "source": [
    "shopping[1]"
   ]
  },
  {
   "cell_type": "markdown",
   "id": "fcecf1ed",
   "metadata": {},
   "source": [
    "Extract the first to third (inclusive) element of the list."
   ]
  },
  {
   "cell_type": "code",
   "execution_count": 6,
   "id": "88f201bc",
   "metadata": {},
   "outputs": [
    {
     "data": {
      "text/plain": [
       "['ham', 'eggs', 'ham']"
      ]
     },
     "execution_count": 6,
     "metadata": {},
     "output_type": "execute_result"
    }
   ],
   "source": [
    "shopping[1:4]"
   ]
  },
  {
   "cell_type": "markdown",
   "id": "b83131b6",
   "metadata": {},
   "source": [
    "Extract only the last element of the list."
   ]
  },
  {
   "cell_type": "code",
   "execution_count": 7,
   "id": "f8227ec9",
   "metadata": {},
   "outputs": [
    {
     "data": {
      "text/plain": [
       "'ham'"
      ]
     },
     "execution_count": 7,
     "metadata": {},
     "output_type": "execute_result"
    }
   ],
   "source": [
    "shopping[-1]"
   ]
  },
  {
   "cell_type": "markdown",
   "id": "358db152",
   "metadata": {},
   "source": [
    "## Question 2\n",
    "Set up a list with the following elements:\n",
    "\n",
    "stops = [\"Croy\", \"Cumbernauld\", \"Falkirk High\", \"Linlithgow\", \"Livingston\", \"Haymarket\"]"
   ]
  },
  {
   "cell_type": "code",
   "execution_count": 11,
   "id": "e8625a3c",
   "metadata": {},
   "outputs": [],
   "source": [
    "stops = [\"Croy\", \"Cumbernauld\", \"Falkirk High\", \"Linlithgow\", \"Livingston\", \"Haymarket\"]"
   ]
  },
  {
   "cell_type": "markdown",
   "id": "91671bfa",
   "metadata": {},
   "source": [
    "Append Edinburgh Waverley to the end of the list"
   ]
  },
  {
   "cell_type": "code",
   "execution_count": 13,
   "id": "a7a8e1dc",
   "metadata": {},
   "outputs": [],
   "source": [
    "stops.append('Edinburgh Waverley')"
   ]
  },
  {
   "cell_type": "markdown",
   "id": "1330f90f",
   "metadata": {},
   "source": [
    "Add \"Queen Street\" to the start of the list"
   ]
  },
  {
   "cell_type": "code",
   "execution_count": 22,
   "id": "e7ced337",
   "metadata": {},
   "outputs": [],
   "source": [
    "stops.insert?"
   ]
  },
  {
   "cell_type": "code",
   "execution_count": 23,
   "id": "6d70126d",
   "metadata": {},
   "outputs": [],
   "source": [
    "stops.insert(0, 'Queen Street')"
   ]
  },
  {
   "cell_type": "code",
   "execution_count": 24,
   "id": "d785b799",
   "metadata": {},
   "outputs": [
    {
     "data": {
      "text/plain": [
       "['Queen Street',\n",
       " 'Croy',\n",
       " 'Cumbernauld',\n",
       " 'Falkirk High',\n",
       " 'Linlithgow',\n",
       " 'Livingston',\n",
       " 'Haymarket',\n",
       " 'Edinburgh Waverley']"
      ]
     },
     "execution_count": 24,
     "metadata": {},
     "output_type": "execute_result"
    }
   ],
   "source": [
    "stops"
   ]
  },
  {
   "cell_type": "markdown",
   "id": "dd750c79",
   "metadata": {},
   "source": [
    "Find out what index \"Croy\" is at in the list"
   ]
  },
  {
   "cell_type": "code",
   "execution_count": 25,
   "id": "5c32a095",
   "metadata": {},
   "outputs": [
    {
     "data": {
      "text/plain": [
       "1"
      ]
     },
     "execution_count": 25,
     "metadata": {},
     "output_type": "execute_result"
    }
   ],
   "source": [
    "stops.index('Croy')"
   ]
  },
  {
   "cell_type": "markdown",
   "id": "1a1c1360",
   "metadata": {},
   "source": [
    "Add \"Polmont\" at the appropriate point (between \"Falkirk High\" and \"Linlithgow\")"
   ]
  },
  {
   "cell_type": "code",
   "execution_count": 26,
   "id": "46b3fbf3",
   "metadata": {},
   "outputs": [],
   "source": [
    "stops.insert(4, 'Polmont')"
   ]
  },
  {
   "cell_type": "markdown",
   "id": "664dd6c5",
   "metadata": {},
   "source": [
    "Remove \"Haymarket\" from the list of stops"
   ]
  },
  {
   "cell_type": "code",
   "execution_count": 28,
   "id": "4f201bfe",
   "metadata": {},
   "outputs": [],
   "source": [
    "stops.remove('Haymarket')"
   ]
  },
  {
   "cell_type": "markdown",
   "id": "6257660a",
   "metadata": {},
   "source": [
    "Remove all items from stops"
   ]
  },
  {
   "cell_type": "code",
   "execution_count": 31,
   "id": "826fa0ef",
   "metadata": {},
   "outputs": [],
   "source": [
    "stops.clear()"
   ]
  },
  {
   "cell_type": "code",
   "execution_count": 32,
   "id": "1299511e",
   "metadata": {},
   "outputs": [
    {
     "data": {
      "text/plain": [
       "[]"
      ]
     },
     "execution_count": 32,
     "metadata": {},
     "output_type": "execute_result"
    }
   ],
   "source": [
    "stops"
   ]
  },
  {
   "cell_type": "markdown",
   "id": "f89ec3a4",
   "metadata": {},
   "source": [
    "Question 3\n",
    "Set up the following dictionary:"
   ]
  },
  {
   "cell_type": "code",
   "execution_count": 34,
   "id": "86854153",
   "metadata": {},
   "outputs": [],
   "source": [
    "person = {\n",
    "    \"name\": \"Steph\",\n",
    "    \"age\": 31,\n",
    "    \"Instructor\" : True\n",
    "}"
   ]
  },
  {
   "cell_type": "markdown",
   "id": "ed3067b0",
   "metadata": {},
   "source": [
    "Return the keys, values and items from this dictionary"
   ]
  },
  {
   "cell_type": "code",
   "execution_count": 37,
   "id": "be298b7a",
   "metadata": {},
   "outputs": [
    {
     "data": {
      "text/plain": [
       "dict_keys(['name', 'age', 'Instructor'])"
      ]
     },
     "execution_count": 37,
     "metadata": {},
     "output_type": "execute_result"
    }
   ],
   "source": [
    "person.keys()"
   ]
  },
  {
   "cell_type": "code",
   "execution_count": 38,
   "id": "c24457ab",
   "metadata": {},
   "outputs": [
    {
     "data": {
      "text/plain": [
       "dict_values(['Steph', 31, True])"
      ]
     },
     "execution_count": 38,
     "metadata": {},
     "output_type": "execute_result"
    }
   ],
   "source": [
    "person.values()"
   ]
  },
  {
   "cell_type": "code",
   "execution_count": 41,
   "id": "1493f5ef",
   "metadata": {},
   "outputs": [
    {
     "data": {
      "text/plain": [
       "dict_items([('name', 'Steph'), ('age', 31), ('Instructor', True)])"
      ]
     },
     "execution_count": 41,
     "metadata": {},
     "output_type": "execute_result"
    }
   ],
   "source": [
    "person.items()"
   ]
  },
  {
   "cell_type": "markdown",
   "id": "e9955345",
   "metadata": {},
   "source": [
    "Take out only the name from it"
   ]
  },
  {
   "cell_type": "code",
   "execution_count": 43,
   "id": "833f69d6",
   "metadata": {},
   "outputs": [
    {
     "data": {
      "text/plain": [
       "'Steph'"
      ]
     },
     "execution_count": 43,
     "metadata": {},
     "output_type": "execute_result"
    }
   ],
   "source": [
    "person['name']"
   ]
  },
  {
   "cell_type": "markdown",
   "id": "c445bfdc",
   "metadata": {},
   "source": [
    "Add a new key:value pair, which adds the email \"steph@codeclan.com\" to the dictionary"
   ]
  },
  {
   "cell_type": "code",
   "execution_count": 48,
   "id": "531a7b63",
   "metadata": {},
   "outputs": [],
   "source": [
    "person.update({\"email\":\"steph@codeclan.com\"})"
   ]
  },
  {
   "cell_type": "code",
   "execution_count": 49,
   "id": "9e29b7dc",
   "metadata": {},
   "outputs": [
    {
     "data": {
      "text/plain": [
       "{'name': 'Steph', 'age': 31, 'Instructor': True, 'email': 'steph@codeclan.com'}"
      ]
     },
     "execution_count": 49,
     "metadata": {},
     "output_type": "execute_result"
    }
   ],
   "source": [
    "person"
   ]
  },
  {
   "cell_type": "markdown",
   "id": "886260c3",
   "metadata": {},
   "source": [
    "Delete the job description from the dictionary"
   ]
  },
  {
   "cell_type": "code",
   "execution_count": 52,
   "id": "82383da0",
   "metadata": {},
   "outputs": [],
   "source": [
    "del person['Instructor']"
   ]
  },
  {
   "cell_type": "code",
   "execution_count": 53,
   "id": "a77b354c",
   "metadata": {},
   "outputs": [
    {
     "data": {
      "text/plain": [
       "{'name': 'Steph', 'age': 31, 'email': 'steph@codeclan.com'}"
      ]
     },
     "execution_count": 53,
     "metadata": {},
     "output_type": "execute_result"
    }
   ],
   "source": [
    "person"
   ]
  },
  {
   "cell_type": "markdown",
   "id": "2c7111af",
   "metadata": {},
   "source": [
    "# Question 4\n",
    "For the following list of numbers:"
   ]
  },
  {
   "cell_type": "code",
   "execution_count": 103,
   "id": "a430aead",
   "metadata": {},
   "outputs": [],
   "source": [
    "numbers = [1, 6, 2, 2, 7, 1, 6, 13, 99, 7]"
   ]
  },
  {
   "cell_type": "markdown",
   "id": "3a439e58",
   "metadata": {},
   "source": [
    "Print out a list of the even integers:"
   ]
  },
  {
   "cell_type": "code",
   "execution_count": 55,
   "id": "bf7c402b",
   "metadata": {},
   "outputs": [
    {
     "data": {
      "text/plain": [
       "[6, 2, 2, 6]"
      ]
     },
     "execution_count": 55,
     "metadata": {},
     "output_type": "execute_result"
    }
   ],
   "source": [
    "[num for num in numbers if num % 2 == 0]"
   ]
  },
  {
   "cell_type": "markdown",
   "id": "e3579414",
   "metadata": {},
   "source": [
    "Print the difference between the largest and smallest value:"
   ]
  },
  {
   "cell_type": "code",
   "execution_count": 62,
   "id": "ce2e8998",
   "metadata": {},
   "outputs": [],
   "source": [
    "def max_minus_min(x):\n",
    "    x.sort()\n",
    "    return x[-1] - x[0]\n",
    "    \n"
   ]
  },
  {
   "cell_type": "code",
   "execution_count": 63,
   "id": "45fea5cc",
   "metadata": {},
   "outputs": [
    {
     "data": {
      "text/plain": [
       "98"
      ]
     },
     "execution_count": 63,
     "metadata": {},
     "output_type": "execute_result"
    }
   ],
   "source": [
    "max_minus_min(numbers)"
   ]
  },
  {
   "cell_type": "markdown",
   "id": "80bf91a7",
   "metadata": {},
   "source": [
    "Print True if the list contains a 2 next to a 2 somewhere."
   ]
  },
  {
   "cell_type": "code",
   "execution_count": 107,
   "id": "9c57662e",
   "metadata": {},
   "outputs": [
    {
     "name": "stdout",
     "output_type": "stream",
     "text": [
      "True\n"
     ]
    }
   ],
   "source": [
    "for i in range(len(numbers) - 1):\n",
    "    if numbers[i] == 2 and numbers[i + 1] == 2:\n",
    "        print ('True')\n",
    "        \n",
    "        \n",
    "# not sure if its correct"
   ]
  },
  {
   "cell_type": "markdown",
   "id": "84b861fc",
   "metadata": {},
   "source": [
    "Print the sum of the numbers, BUT ignore any section of numbers starting with a 6 and extending to the next 7. So [11, 6, 4, 99, 7, 11] would have sum of 22"
   ]
  },
  {
   "cell_type": "code",
   "execution_count": 106,
   "id": "e742885a",
   "metadata": {},
   "outputs": [
    {
     "name": "stdout",
     "output_type": "stream",
     "text": [
      "Object `??` not found.\n"
     ]
    }
   ],
   "source": [
    "????"
   ]
  },
  {
   "cell_type": "markdown",
   "id": "73f19116",
   "metadata": {},
   "source": [
    "# Question 5\n",
    "Write a conditional that takes in two inputs :\n",
    "\n",
    "python_is_fun = True\n",
    "python_is_weird = True"
   ]
  },
  {
   "cell_type": "code",
   "execution_count": 113,
   "id": "b7b5b1cd",
   "metadata": {},
   "outputs": [
    {
     "name": "stdout",
     "output_type": "stream",
     "text": [
      "Woo Python!\n"
     ]
    }
   ],
   "source": [
    "python_is_fun = True\n",
    "python_is_weird = True\n",
    "\n",
    "if python_is_fun == True or python_is_weird == True:\n",
    "    print(\"Woo Python!\")\n",
    "else:\n",
    "    print(\"Python is not for me!\")"
   ]
  },
  {
   "cell_type": "code",
   "execution_count": 133,
   "id": "d240d673",
   "metadata": {},
   "outputs": [],
   "source": [
    "chickens = [\n",
    "  { \"name\": \"Margaret\", \"age\": 2, \"eggs\": 0 },\n",
    "  { \"name\": \"Hetty\", \"age\": 1, \"eggs\": 2 },\n",
    "  { \"name\": \"Henrietta\", \"age\": 3, \"eggs\": 1 },\n",
    "  { \"name\": \"Audrey\", \"age\": 2, \"eggs\": 0 },\n",
    "  { \"name\": \"Mabel\", \"age\": 5, \"eggs\": 1 },\n",
    "]\n",
    "\n"
   ]
  },
  {
   "cell_type": "markdown",
   "id": "41846387",
   "metadata": {},
   "source": [
    "Write a function to count eggs"
   ]
  },
  {
   "cell_type": "code",
   "execution_count": 134,
   "id": "9b1b17e0",
   "metadata": {},
   "outputs": [],
   "source": [
    "def count_eggs(x):\n",
    "    total_eggs = 0\n",
    "    for chicken in x :\n",
    "        total_eggs += chicken[\"eggs\"]\n",
    "        chicken[\"eggs\"] = 0\n",
    "    return str(total_eggs) + \" eggs collected\""
   ]
  },
  {
   "cell_type": "code",
   "execution_count": 135,
   "id": "26885488",
   "metadata": {},
   "outputs": [
    {
     "data": {
      "text/plain": [
       "'4 eggs collected'"
      ]
     },
     "execution_count": 135,
     "metadata": {},
     "output_type": "execute_result"
    }
   ],
   "source": [
    "count_eggs(chickens)"
   ]
  },
  {
   "cell_type": "code",
   "execution_count": null,
   "id": "4796827a",
   "metadata": {},
   "outputs": [],
   "source": []
  }
 ],
 "metadata": {
  "kernelspec": {
   "display_name": "Python 3",
   "language": "python",
   "name": "python3"
  },
  "language_info": {
   "codemirror_mode": {
    "name": "ipython",
    "version": 3
   },
   "file_extension": ".py",
   "mimetype": "text/x-python",
   "name": "python",
   "nbconvert_exporter": "python",
   "pygments_lexer": "ipython3",
   "version": "3.8.8"
  },
  "varInspector": {
   "cols": {
    "lenName": 16,
    "lenType": 16,
    "lenVar": 40
   },
   "kernels_config": {
    "python": {
     "delete_cmd_postfix": "",
     "delete_cmd_prefix": "del ",
     "library": "var_list.py",
     "varRefreshCmd": "print(var_dic_list())"
    },
    "r": {
     "delete_cmd_postfix": ") ",
     "delete_cmd_prefix": "rm(",
     "library": "var_list.r",
     "varRefreshCmd": "cat(var_dic_list()) "
    }
   },
   "types_to_exclude": [
    "module",
    "function",
    "builtin_function_or_method",
    "instance",
    "_Feature"
   ],
   "window_display": false
  }
 },
 "nbformat": 4,
 "nbformat_minor": 5
}
